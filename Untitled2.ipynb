{
  "nbformat": 4,
  "nbformat_minor": 0,
  "metadata": {
    "colab": {
      "name": "Untitled2.ipynb",
      "provenance": [],
      "collapsed_sections": [],
      "authorship_tag": "ABX9TyNJJLxJasccFtjDYdsqMRqF",
      "include_colab_link": true
    },
    "kernelspec": {
      "name": "python3",
      "display_name": "Python 3"
    },
    "language_info": {
      "name": "python"
    }
  },
  "cells": [
    {
      "cell_type": "markdown",
      "metadata": {
        "id": "view-in-github",
        "colab_type": "text"
      },
      "source": [
        "<a href=\"https://colab.research.google.com/github/abnuo/ButtBot/blob/main/Untitled2.ipynb\" target=\"_parent\"><img src=\"https://colab.research.google.com/assets/colab-badge.svg\" alt=\"Open In Colab\"/></a>"
      ]
    },
    {
      "cell_type": "code",
      "metadata": {
        "id": "fM_JoVetLokJ"
      },
      "source": [
        "!echo \"Lu9\" > query.txt"
      ],
      "execution_count": 3,
      "outputs": []
    },
    {
      "cell_type": "code",
      "metadata": {
        "colab": {
          "base_uri": "https://localhost:8080/"
        },
        "id": "54t3MveniyrP",
        "outputId": "b66d54bd-b86f-4336-a080-3a1790e5c732"
      },
      "source": [
        "!sudo apt-get install fluidsynth\n",
        "!pip install opencv-python\n",
        "!pip install requests\n",
        "!pip install requests-toolbelt\n",
        "!pip install git+https://github.com/Joeclinton1/google-images-download.git\n",
        "!pip install BeautifulSoup4\n",
        "!pip install midi2audio"
      ],
      "execution_count": 4,
      "outputs": [
        {
          "output_type": "stream",
          "text": [
            "Reading package lists... Done\n",
            "Building dependency tree       \n",
            "Reading state information... Done\n",
            "The following additional packages will be installed:\n",
            "  fluid-soundfont-gm libfluidsynth1 libqt5x11extras5 qsynth\n",
            "Suggested packages:\n",
            "  fluid-soundfont-gs timidity jackd\n",
            "The following NEW packages will be installed:\n",
            "  fluid-soundfont-gm fluidsynth libfluidsynth1 libqt5x11extras5 qsynth\n",
            "0 upgraded, 5 newly installed, 0 to remove and 40 not upgraded.\n",
            "Need to get 120 MB of archives.\n",
            "After this operation, 150 MB of additional disk space will be used.\n",
            "Get:1 http://archive.ubuntu.com/ubuntu bionic/universe amd64 fluid-soundfont-gm all 3.1-5.1 [119 MB]\n",
            "Get:2 http://archive.ubuntu.com/ubuntu bionic/universe amd64 libfluidsynth1 amd64 1.1.9-1 [137 kB]\n",
            "Get:3 http://archive.ubuntu.com/ubuntu bionic/universe amd64 fluidsynth amd64 1.1.9-1 [20.7 kB]\n",
            "Get:4 http://archive.ubuntu.com/ubuntu bionic/universe amd64 libqt5x11extras5 amd64 5.9.5-0ubuntu1 [8,596 B]\n",
            "Get:5 http://archive.ubuntu.com/ubuntu bionic/universe amd64 qsynth amd64 0.5.0-2 [191 kB]\n",
            "Fetched 120 MB in 4s (30.7 MB/s)\n",
            "debconf: unable to initialize frontend: Dialog\n",
            "debconf: (No usable dialog-like program is installed, so the dialog based frontend cannot be used. at /usr/share/perl5/Debconf/FrontEnd/Dialog.pm line 76, <> line 5.)\n",
            "debconf: falling back to frontend: Readline\n",
            "debconf: unable to initialize frontend: Readline\n",
            "debconf: (This frontend requires a controlling tty.)\n",
            "debconf: falling back to frontend: Teletype\n",
            "dpkg-preconfigure: unable to re-open stdin: \n",
            "Selecting previously unselected package fluid-soundfont-gm.\n",
            "(Reading database ... 160837 files and directories currently installed.)\n",
            "Preparing to unpack .../fluid-soundfont-gm_3.1-5.1_all.deb ...\n",
            "Unpacking fluid-soundfont-gm (3.1-5.1) ...\n",
            "Selecting previously unselected package libfluidsynth1:amd64.\n",
            "Preparing to unpack .../libfluidsynth1_1.1.9-1_amd64.deb ...\n",
            "Unpacking libfluidsynth1:amd64 (1.1.9-1) ...\n",
            "Selecting previously unselected package fluidsynth.\n",
            "Preparing to unpack .../fluidsynth_1.1.9-1_amd64.deb ...\n",
            "Unpacking fluidsynth (1.1.9-1) ...\n",
            "Selecting previously unselected package libqt5x11extras5:amd64.\n",
            "Preparing to unpack .../libqt5x11extras5_5.9.5-0ubuntu1_amd64.deb ...\n",
            "Unpacking libqt5x11extras5:amd64 (5.9.5-0ubuntu1) ...\n",
            "Selecting previously unselected package qsynth.\n",
            "Preparing to unpack .../qsynth_0.5.0-2_amd64.deb ...\n",
            "Unpacking qsynth (0.5.0-2) ...\n",
            "Setting up libqt5x11extras5:amd64 (5.9.5-0ubuntu1) ...\n",
            "Setting up fluid-soundfont-gm (3.1-5.1) ...\n",
            "Setting up libfluidsynth1:amd64 (1.1.9-1) ...\n",
            "Setting up fluidsynth (1.1.9-1) ...\n",
            "Setting up qsynth (0.5.0-2) ...\n",
            "Processing triggers for hicolor-icon-theme (0.17-2) ...\n",
            "Processing triggers for mime-support (3.60ubuntu1) ...\n",
            "Processing triggers for libc-bin (2.27-3ubuntu1.2) ...\n",
            "/sbin/ldconfig.real: /usr/local/lib/python3.7/dist-packages/ideep4py/lib/libmkldnn.so.0 is not a symbolic link\n",
            "\n",
            "Processing triggers for man-db (2.8.3-2ubuntu0.1) ...\n",
            "Requirement already satisfied: opencv-python in /usr/local/lib/python3.7/dist-packages (4.1.2.30)\n",
            "Requirement already satisfied: numpy>=1.14.5 in /usr/local/lib/python3.7/dist-packages (from opencv-python) (1.19.5)\n",
            "Requirement already satisfied: requests in /usr/local/lib/python3.7/dist-packages (2.23.0)\n",
            "Requirement already satisfied: chardet<4,>=3.0.2 in /usr/local/lib/python3.7/dist-packages (from requests) (3.0.4)\n",
            "Requirement already satisfied: urllib3!=1.25.0,!=1.25.1,<1.26,>=1.21.1 in /usr/local/lib/python3.7/dist-packages (from requests) (1.24.3)\n",
            "Requirement already satisfied: idna<3,>=2.5 in /usr/local/lib/python3.7/dist-packages (from requests) (2.10)\n",
            "Requirement already satisfied: certifi>=2017.4.17 in /usr/local/lib/python3.7/dist-packages (from requests) (2021.5.30)\n",
            "Collecting requests-toolbelt\n",
            "  Downloading requests_toolbelt-0.9.1-py2.py3-none-any.whl (54 kB)\n",
            "\u001b[K     |████████████████████████████████| 54 kB 2.1 MB/s \n",
            "\u001b[?25hRequirement already satisfied: requests<3.0.0,>=2.0.1 in /usr/local/lib/python3.7/dist-packages (from requests-toolbelt) (2.23.0)\n",
            "Requirement already satisfied: idna<3,>=2.5 in /usr/local/lib/python3.7/dist-packages (from requests<3.0.0,>=2.0.1->requests-toolbelt) (2.10)\n",
            "Requirement already satisfied: urllib3!=1.25.0,!=1.25.1,<1.26,>=1.21.1 in /usr/local/lib/python3.7/dist-packages (from requests<3.0.0,>=2.0.1->requests-toolbelt) (1.24.3)\n",
            "Requirement already satisfied: certifi>=2017.4.17 in /usr/local/lib/python3.7/dist-packages (from requests<3.0.0,>=2.0.1->requests-toolbelt) (2021.5.30)\n",
            "Requirement already satisfied: chardet<4,>=3.0.2 in /usr/local/lib/python3.7/dist-packages (from requests<3.0.0,>=2.0.1->requests-toolbelt) (3.0.4)\n",
            "Installing collected packages: requests-toolbelt\n",
            "Successfully installed requests-toolbelt-0.9.1\n",
            "Collecting git+https://github.com/Joeclinton1/google-images-download.git\n",
            "  Cloning https://github.com/Joeclinton1/google-images-download.git to /tmp/pip-req-build-jjqu5mfc\n",
            "  Running command git clone -q https://github.com/Joeclinton1/google-images-download.git /tmp/pip-req-build-jjqu5mfc\n",
            "Collecting selenium\n",
            "  Downloading selenium-3.141.0-py2.py3-none-any.whl (904 kB)\n",
            "\u001b[K     |████████████████████████████████| 904 kB 31.8 MB/s \n",
            "\u001b[?25hRequirement already satisfied: urllib3 in /usr/local/lib/python3.7/dist-packages (from selenium->google-images-download==2.8.0) (1.24.3)\n",
            "Building wheels for collected packages: google-images-download\n",
            "  Building wheel for google-images-download (setup.py) ... \u001b[?25l\u001b[?25hdone\n",
            "  Created wheel for google-images-download: filename=google_images_download-2.8.0-py2.py3-none-any.whl size=15945 sha256=0bd22765e145f54b97c0f9a0bf642e3a5231de721e71e7aa09ad96119e8e04ea\n",
            "  Stored in directory: /tmp/pip-ephem-wheel-cache-cwwy44vn/wheels/79/5c/d2/2569a4f55ff29b3c4d6b1114d5110a70a79afbf381e6eb3e87\n",
            "Successfully built google-images-download\n",
            "Installing collected packages: selenium, google-images-download\n",
            "Successfully installed google-images-download-2.8.0 selenium-3.141.0\n",
            "Requirement already satisfied: BeautifulSoup4 in /usr/local/lib/python3.7/dist-packages (4.6.3)\n",
            "Collecting midi2audio\n",
            "  Downloading midi2audio-0.1.1-py2.py3-none-any.whl (8.7 kB)\n",
            "Installing collected packages: midi2audio\n",
            "Successfully installed midi2audio-0.1.1\n"
          ],
          "name": "stdout"
        }
      ]
    },
    {
      "cell_type": "code",
      "metadata": {
        "colab": {
          "base_uri": "https://localhost:8080/"
        },
        "id": "lJ7qHvWR2bmJ",
        "outputId": "3c3b5c2f-cf62-4db4-cf7f-7257b29b8e6a"
      },
      "source": [
        "# Run me 2 times!\n",
        "from os import system, path, remove\n",
        "if not path.exists('32MbGMStereo.sf2'):\n",
        "  print('Downloading soundfont.')\n",
        "  !wget http://ntonyx.com/soft/32MbGMStereo.sf2\n",
        "else:\n",
        "  print('Soundfont already exists, Defaulting.')"
      ],
      "execution_count": 6,
      "outputs": [
        {
          "output_type": "stream",
          "text": [
            "Soundfont already exists, Defaulting.\n"
          ],
          "name": "stdout"
        }
      ]
    },
    {
      "cell_type": "code",
      "metadata": {
        "id": "VGeX0vUXzGAk"
      },
      "source": [
        "from bs4 import BeautifulSoup\n",
        "import requests\n",
        "import re\n",
        "import os\n",
        "def getMIDI():\n",
        "    links = []\n",
        "    r = requests.get(\"https://www.vgmusic.com/cgi/random.cgi\")\n",
        "    html_page = r.text\n",
        "    soup = BeautifulSoup(html_page)\n",
        "    for link in soup.findAll('a'):\n",
        "      links.append(link['href'])\n",
        "    return links[1]\n",
        "def makeWAV():\n",
        "    midiurl = getMIDI()\n",
        "    os.system(\"wget -O midi.mid '\" + midiurl + \"'\")\n",
        "    os.system(\"fluidsynth -ni 32MbGMStereo.sf2 midi.mid -F music.wav -r 44100\")\n",
        "if os.path.exists('midi.mid'):\n",
        "  os.remove('midi.mid')\n",
        "makeWAV()\n"
      ],
      "execution_count": 7,
      "outputs": []
    },
    {
      "cell_type": "code",
      "metadata": {
        "id": "nV-jvLUAkAv2",
        "colab": {
          "base_uri": "https://localhost:8080/"
        },
        "outputId": "28c361ac-0fd2-4b71-f902-ab3be333a5f1"
      },
      "source": [
        "import shlex, subprocess\n",
        "import os\n",
        "import random\n",
        "import string\n",
        "import cv2\n",
        "import shutil\n",
        "import numpy as np\n",
        "import glob\n",
        "from google_images_download import google_images_download   \n",
        "response = google_images_download.googleimagesdownload()   \n",
        "import requests\n",
        "import ast\n",
        "import json\n",
        "from urllib.parse import quote, unquote\n",
        "from requests_toolbelt.multipart.encoder import MultipartEncoder\n",
        "from google.colab import drive\n",
        "drive.mount('/content/gdrive')\n",
        "key = \"u2pe-fa8w-xbtz-a27j-5ar1\"\n",
        "music = [\"https://my.namejeff.com/Pr7SFzK9.mp3\", \"https://my.namejeff.com/7rNFG4g1.mp3\", \"https://my.namejeff.com/b4CDLMll.mp3\", \"https://my.namejeff.com/ZXU8LwQV.mp3\", \"https://my.namejeff.com/zpEWkuFJ.mp3\"]\n",
        "global makeVideo\n",
        "class makeVideo:\n",
        "  global genTaD\n",
        "  global make\n",
        "  def genTaD(query):\n",
        "    tad = {}\n",
        "    r = requests.get(\"http://suggestqueries.google.com/complete/search?client=chrome&q=\" + quote(query))\n",
        "    tad = {\"title\": json.loads(r.text)[0], \"description\": '\\n'.join(json.loads(r.text)[1])}\n",
        "    return tad\n",
        "  def make(query,output):\n",
        "    img_array = []\n",
        "    downloadsPath = 'downloads'\n",
        "    if not os.path.isdir(downloadsPath):\n",
        "      os.system('mkdir downloads')\n",
        "    else:\n",
        "      files = glob.glob('downloads/*/*.*')\n",
        "      for f in files:\n",
        "        os.remove(f)\n",
        "    if os.path.isfile('seo.mp4'):\n",
        "      os.remove('seo.mp4')\n",
        "    arguments = {\"keywords\":query,\"limit\":20,\"print_urls\":False}   \n",
        "    paths = response.download(arguments)\n",
        "    print(paths)   \n",
        "    # query = query.replace(\" \",\"_\")\n",
        "    # Hi I Go Search In /penis_doodie/ after downloding file in /penis doodie/\n",
        "    # TOJUCH THIS nd mzarIO.EXE WIKLL KILLER YOU BCIH\n",
        "    penismarios = f'downloads/{query}/*.*'\n",
        "    for filename in glob.glob(penismarios):\n",
        "      if '.gif' in filename:\n",
        "        print('Gif found, Skipping.')\n",
        "      else:\n",
        "        img = cv2.imread(filename)\n",
        "        dim = (640,480)\n",
        "        resized = cv2.resize(img, dim, interpolation = cv2.INTER_AREA)\n",
        "        img_array.append(resized)\n",
        "    outputfilename = 'seo_' + ''.join(random.choice(string.ascii_lowercase + string.ascii_uppercase) for i in range(10)) + '.mp4'\n",
        "    with open('filename.txt', 'w') as f:\n",
        "      f.write(outputfilename)\n",
        "    out = cv2.VideoWriter(\"seo.avi\",cv2.VideoWriter_fourcc(*'DIVX'), 0.5, (640,480))\n",
        "    for i in range(len(img_array)):\n",
        "        out.write(img_array[i])\n",
        "    out.release()\n",
        "    subprocess.call([\"ffmpeg\",\"-i\",\"seo.avi\",\"-i\",\"music.wav\",\"-map\",\"0\",\"-map\",\"1:a\",\"-shortest\",outputfilename])\n",
        "    shutil.copyfile(outputfilename, \"/content/gdrive/MyDrive/videomake/\" + outputfilename)\n",
        "    os.remove(\"seo.avi\")\n",
        "    os.remove(outputfilename)\n",
        "    # you are free to  Touch My Bo0dy Challenge\n",
        "    vidpath = '/content/gdrive/MyDrive/videomake/' + outputfilename\n",
        "    #with open(\"path.txt\", \"w\") as txt:\n",
        "    #  txt.write(vidpath)\n",
        "    fields = {\n",
        "        'file': open(vidpath, 'rb')\n",
        "    }\n",
        "    # r = requests.post('https://my.namejeff.com/api/upload',mp_encoder,headers={'token':'OONqEoH1es5yJC5k9VyeXEJSSvoWrZ2gMx7X3o8zHyqjm1Cz1MBTiIlf6gWRKdWX','Content-Type': mp_encoder.content_type})\n",
        "    requests.post('https://discord.com/api/webhooks/840990500252418048/Do_kAd27lRQkr1Z7ibLPyLusLbtZehrz6-jLoGEgSRmkPVgPjxHgnAoYhJ0Ou0DYi6Yo', data={'username': 'Videomaker','content': genTaD(query)['title'] + '\\n' + genTaD(query)['description']}, files=fields)\n",
        "    #subprocess.call([\"ffmpeg\", \"-re\", \"-i\", vidpath, \"-f\", \"tee\", \"rtmp://a.rtmp.youtube.com/live2/\" + key])\n",
        "  make(open('query.txt', 'r').read(), 'seo')"
      ],
      "execution_count": 8,
      "outputs": [
        {
          "output_type": "stream",
          "text": [
            "Mounted at /content/gdrive\n",
            "\n",
            "Item no.: 1 --> Item name = Lu9\n",
            "\n",
            "Evaluating...\n",
            "Starting Download...\n",
            "Completed Image ====> 1.lu9.png\n",
            "Completed Image ====> 2.lu-9-tai-yuan.jpg\n",
            "Completed Image ====> 3.9762a1eeeee50748cb80458f013c75cf.jpg\n",
            "Invalid image format 'text/html'. Skipping...\n",
            "Completed Image ====> 4.lu9.jpg\n",
            "Invalid image format 'application/octet-stream'. Skipping...\n",
            "Completed Image ====> 5.lungs-lu9-acupressure-meridian-point-in-hand-image.png\n",
            "Completed Image ====> 6.lu-9.jpg\n",
            "Completed Image ====> 7.taiyuan-location.jpg\n",
            "Completed Image ====> 8.256171-accupressure-anxiety-great-abbys-lu9-1296x728-body-1.jpg\n",
            "Completed Image ====> 9.drawing-acupuncture-point-lu-taiyuan-d-illustration-lung-meridian-meridians-acupoints-human-body-human-skin-80577459.jpg\n",
            "Completed Image ====> 10.lung09.jpg\n",
            "Completed Image ====> 11.the-locations-of-acupoints-lu3-lu4-and-lu9.jpg.png\n",
            "Completed Image ====> 12.lungs-lu9-acupressure-meridian-point-in-hand-anatomy.png\n",
            "Completed Image ====> 13.drawing-acupuncture-point-lu9-taiyuan-260nw-720836362.jpg\n",
            "Completed Image ====> 14.dzrlq4owsaeyiyo.jpg\n",
            "Completed Image ====> 15.lu9-352x445.jpg\n",
            "Completed Image ====> 16.892283d0-bcd8-43bf-b3c6-8e4c082b5f19.jpg\n",
            "Completed Image ====> 17.00d1f224ecebfb5a5af9c2e1295fb7e0.jpg\n",
            "Completed Image ====> 18.lu-9-supreme-abyss-taiyuan-acupuncture-points-2.jpg\n",
            "Completed Image ====> 19.lu-9-lung-9-tai-yuan-supreme-abyss.jpg.webp\n",
            "Completed Image ====> 20.lung-9.jpg\n",
            "\n",
            "Errors: 2\n",
            "\n",
            "({'Lu9\\n': ['/content/downloads/Lu9\\n/1.lu9.png', '/content/downloads/Lu9\\n/2.lu-9-tai-yuan.jpg', '/content/downloads/Lu9\\n/3.9762a1eeeee50748cb80458f013c75cf.jpg', '/content/downloads/Lu9\\n/4.lu9.jpg', '/content/downloads/Lu9\\n/5.lungs-lu9-acupressure-meridian-point-in-hand-image.png', '/content/downloads/Lu9\\n/6.lu-9.jpg', '/content/downloads/Lu9\\n/7.taiyuan-location.jpg', '/content/downloads/Lu9\\n/8.256171-accupressure-anxiety-great-abbys-lu9-1296x728-body-1.jpg', '/content/downloads/Lu9\\n/9.drawing-acupuncture-point-lu-taiyuan-d-illustration-lung-meridian-meridians-acupoints-human-body-human-skin-80577459.jpg', '/content/downloads/Lu9\\n/10.lung09.jpg', '/content/downloads/Lu9\\n/11.the-locations-of-acupoints-lu3-lu4-and-lu9.jpg.png', '/content/downloads/Lu9\\n/12.lungs-lu9-acupressure-meridian-point-in-hand-anatomy.png', '/content/downloads/Lu9\\n/13.drawing-acupuncture-point-lu9-taiyuan-260nw-720836362.jpg', '/content/downloads/Lu9\\n/14.dzrlq4owsaeyiyo.jpg', '/content/downloads/Lu9\\n/15.lu9-352x445.jpg', '/content/downloads/Lu9\\n/16.892283d0-bcd8-43bf-b3c6-8e4c082b5f19.jpg', '/content/downloads/Lu9\\n/17.00d1f224ecebfb5a5af9c2e1295fb7e0.jpg', '/content/downloads/Lu9\\n/18.lu-9-supreme-abyss-taiyuan-acupuncture-points-2.jpg', '/content/downloads/Lu9\\n/19.lu-9-lung-9-tai-yuan-supreme-abyss.jpg.webp', '/content/downloads/Lu9\\n/20.lung-9.jpg']}, 2)\n"
          ],
          "name": "stdout"
        }
      ]
    },
    {
      "cell_type": "code",
      "metadata": {
        "id": "ft8lJ5S3nsj-",
        "colab": {
          "base_uri": "https://localhost:8080/"
        },
        "outputId": "609b9cc9-a215-4539-c656-63ececad8c4a"
      },
      "source": [
        "!ls\n",
        "!echo \"GDRIVE: \"\n",
        "!ls /content/gdrive/MyDrive/videomake\n",
        "!cat filename.txt"
      ],
      "execution_count": 9,
      "outputs": [
        {
          "output_type": "stream",
          "text": [
            "32MbGMStereo.sf2  filename.txt\tmidi.mid   query.txt\n",
            "downloads\t  gdrive\tmusic.wav  sample_data\n",
            "GDRIVE: \n",
            "seo_aOmcNwvzOA.mp4  seo_gPbUZeDTNG.mp4\tseo_ncMHYgZhiG.avi  seo_svLvyGzOaL.avi\n",
            "seo.avi\t\t    seo_GQBTSiHSVg.mp4\tseo_nEtnmQDzjY.mp4  seo_teyzspQQRv.mp4\n",
            "seo_AweviXOwzC.mp4  seo_hhAtioyKtu.mp4\tseo_NiQiyINucm.mp4  seo_TLCmjsTwEv.mp4\n",
            "seo_BdOvNMRjXR.mp4  seo_hKePpPPMlQ.mp4\tseo_njLJfkUBsE.avi  seo_TQcuybjUSr.mp4\n",
            "seo_borRufPhpA.mp4  seoHnIUulmGjz.avi\tseo_NMtwacEEYA.mp4  seo_TXKYluFLAU.mp4\n",
            "seo_BymTVEKQWc.mp4  seo_hpDxmYVHRl.mp4\tseo_nvIHPWUGIZ.mp4  seo_ucvitGkHQR.mp4\n",
            "seo_caXGcrBERe.mp4  seo_HtXGxePxmM.mp4\tseo_oTvJCkdpZj.mp4  seo_uZGQTltcco.mp4\n",
            "seo_COFkcGAZLc.mp4  seo_hZCmykqfPJ.mp4\tseo_paKnrchsMj.mp4  seo_vLfnewypPC.mp4\n",
            "seo_CSyFhFONrM.mp4  seo_hzDLbpFEEa.mp4\tseo_PONoHPEsYG.mp4  seo_WQniEHYeIb.mp4\n",
            "seo_DKfdodUrzS.mp4  seo_IDRqWUKgwS.mp4\tseo_PrPcqtJyiG.avi  seo_XbffCgLSej.mp4\n",
            "seo_dRqkkckEUR.avi  seo_InqTKogwYm.mp4\tseo_QDmvVIGJRt.mp4  seo_XMAWQLYzSB.mp4\n",
            "seo_EBjLykGYDz.mp4  seo_IViStZUVKG.mp4\tseo_QSuXkXvrdj.avi  seo_YihiNkHphN.mp4\n",
            "seo_eptlhkwSji.mp4  seo_JBmrlZnFPV.mp4\tseo_QyEEAvFYhL.mp4  seo_yomOxxzwJC.mp4\n",
            "seo_ERYjfVKnkZ.mp4  seo_jkMYvDgaFN.mp4\tseo_RJpGlyoqKV.mp4  seo_yQSjnTZTmd.mp4\n",
            "seo_eSRsNFaspX.mp4  seo_JoRWWAHEgo.mp4\tseo_rKijrjpGOh.mp4  seo_ytoiibheum.mp4\n",
            "seo_etVnXJarCa.mp4  seo_JyWLHpZgaD.mp4\tseo_RLKLRFxcEI.mp4  seo_ZaBdCqNKFT.mp4\n",
            "seo_ExaDIJjMBW.mp4  seo_kbbEUfhrLM.mp4\tseo_rOHOYJhmeW.mp4  seo_ZARAuImshV.mp4\n",
            "seo_EZPwgDBxlK.mp4  seo_kCxdJskxJW.mp4\tseo_rQaKwneNOr.mp4  seo_zFkXeAhSXU.mp4\n",
            "seo_FMjafSoonX.mp4  seo_kJNRXdzARw.mp4\tseo_RvkjjfZNhG.mp4  seo_zowUsqyzXC.mp4\n",
            "seo_gifUUKLSSl.mp4  seo_LMAhsBmsNp.mp4\tseo_sCVVQyfuBi.mp4  seo_ZzSRevptrp.mp4\n",
            "seo_gklBvRtraL.mp4  seo_mqfAbJjbpu.mp4\tseo_SJipOqFilx.mp4\n",
            "seo_GLoQYPwpWY.mp4  seo_MyRXHlXwtB.mp4\tseo_soRWzuLQOV.mp4\n",
            "seo_hhAtioyKtu.mp4"
          ],
          "name": "stdout"
        }
      ]
    }
  ]
}